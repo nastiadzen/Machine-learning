{
  "nbformat": 4,
  "nbformat_minor": 0,
  "metadata": {
    "colab": {
      "provenance": []
    },
    "kernelspec": {
      "name": "python3",
      "display_name": "Python 3"
    },
    "language_info": {
      "name": "python"
    }
  },
  "cells": [
    {
      "cell_type": "code",
      "execution_count": 22,
      "metadata": {
        "colab": {
          "base_uri": "https://localhost:8080/"
        },
        "id": "lqW8I3UDMTmk",
        "outputId": "f7ec1e30-fe40-462e-bb6e-bce0de68e47f"
      },
      "outputs": [
        {
          "output_type": "stream",
          "name": "stdout",
          "text": [
            "Requirement already satisfied: scikit-Surprise in /usr/local/lib/python3.10/dist-packages (1.1.4)\n",
            "Requirement already satisfied: joblib>=1.2.0 in /usr/local/lib/python3.10/dist-packages (from scikit-Surprise) (1.4.2)\n",
            "Requirement already satisfied: numpy>=1.19.5 in /usr/local/lib/python3.10/dist-packages (from scikit-Surprise) (1.26.4)\n",
            "Requirement already satisfied: scipy>=1.6.0 in /usr/local/lib/python3.10/dist-packages (from scikit-Surprise) (1.13.1)\n"
          ]
        }
      ],
      "source": [
        "#Побудуйте власну рекомендаційну систему (приклад є в документації). Оцініть її. Отримайте рекомендацію для певного користувача.\n",
        "!pip install scikit-Surprise\n",
        "from surprise import AlgoBase\n",
        "from surprise import Dataset\n",
        "from surprise.model_selection import train_test_split\n",
        "import numpy as np"
      ]
    },
    {
      "cell_type": "code",
      "source": [
        "class MyOwnAlgorithm(AlgoBase):\n",
        "    def __init__(self):\n",
        "        AlgoBase.__init__(self)\n",
        "\n",
        "    def fit(self, trainset):\n",
        "        AlgoBase.fit(self, trainset)\n",
        "        self.user_means = {}\n",
        "        for uid, ratings in trainset.ur.items():\n",
        "            self.user_means[uid] = np.mean([rating for (_, rating) in ratings])\n",
        "        return self\n",
        "\n",
        "    def estimate(self, uid, iid):\n",
        "        if uid in self.user_means:\n",
        "            return self.user_means[uid]\n",
        "        else:\n",
        "            return self.trainset.global_mean"
      ],
      "metadata": {
        "id": "NPgBiopPR5Hx"
      },
      "execution_count": 23,
      "outputs": []
    },
    {
      "cell_type": "code",
      "source": [
        "data = Dataset.load_builtin('ml-100k')\n",
        "trainset, testset = train_test_split(data, test_size=0.2)\n",
        "\n",
        "model = MyOwnAlgorithm()\n",
        "model.fit(trainset)"
      ],
      "metadata": {
        "colab": {
          "base_uri": "https://localhost:8080/"
        },
        "id": "AhEHFIjCUyq5",
        "outputId": "4d92fd72-a44d-4f60-dde2-77bfb3439301"
      },
      "execution_count": 24,
      "outputs": [
        {
          "output_type": "execute_result",
          "data": {
            "text/plain": [
              "<__main__.MyOwnAlgorithm at 0x79c03c430790>"
            ]
          },
          "metadata": {},
          "execution_count": 24
        }
      ]
    },
    {
      "cell_type": "code",
      "source": [
        "from surprise import accuracy\n",
        "predictions = model.test(testset)\n",
        "rmse = accuracy.rmse(predictions)\n",
        "mae = accuracy.mae(predictions)"
      ],
      "metadata": {
        "colab": {
          "base_uri": "https://localhost:8080/"
        },
        "id": "RtNE06VxU6o0",
        "outputId": "43e9a3c2-2cfc-4fc5-d268-06aea01293eb"
      },
      "execution_count": 25,
      "outputs": [
        {
          "output_type": "stream",
          "name": "stdout",
          "text": [
            "RMSE: 1.0387\n",
            "MAE:  0.8325\n"
          ]
        }
      ]
    },
    {
      "cell_type": "code",
      "source": [
        "user_id = str(244)\n",
        "\n",
        "all_items = set(trainset.all_items())\n",
        "user_ratings = trainset.ur[trainset.to_inner_uid(user_id)]\n",
        "rated_items = set([item for (item, _) in user_ratings])\n",
        "unrated_items = all_items - rated_items\n",
        "\n",
        "predictions = [(item, model.predict(user_id, trainset.to_raw_iid(item)).est) for item in unrated_items]\n",
        "predictions.sort(key=lambda x: x[1], reverse=True)\n",
        "\n",
        "print(\"Топ-10 фільмів, рекомендованих для користувача:\")\n",
        "for item_id, rating in predictions[:10]:\n",
        "    print(f\"Фільм {trainset.to_raw_iid(item_id)} з прогнозованим рейтингом {rating:.2f}\")"
      ],
      "metadata": {
        "colab": {
          "base_uri": "https://localhost:8080/"
        },
        "id": "mLw0G9b9XdkA",
        "outputId": "c70ec06e-ac31-4949-9765-f20a0f2b9203"
      },
      "execution_count": 26,
      "outputs": [
        {
          "output_type": "stream",
          "name": "stdout",
          "text": [
            "Топ-10 фільмів, рекомендованих для користувача:\n",
            "Фільм 474 з прогнозованим рейтингом 3.66\n",
            "Фільм 620 з прогнозованим рейтингом 3.66\n",
            "Фільм 405 з прогнозованим рейтингом 3.66\n",
            "Фільм 513 з прогнозованим рейтингом 3.66\n",
            "Фільм 770 з прогнозованим рейтингом 3.66\n",
            "Фільм 26 з прогнозованим рейтингом 3.66\n",
            "Фільм 207 з прогнозованим рейтингом 3.66\n",
            "Фільм 588 з прогнозованим рейтингом 3.66\n",
            "Фільм 1067 з прогнозованим рейтингом 3.66\n",
            "Фільм 664 з прогнозованим рейтингом 3.66\n"
          ]
        }
      ]
    },
    {
      "cell_type": "code",
      "source": [
        "#Висновок: У ході виконання лабораторної роботи було створено просту рекомендаційну систему для передбачення рейтингу фільмів користувачем.\n",
        "#Спочатку було використано вбудований алгоритм SVD з бібліотеки Surprise, що дозволило нам швидко побудувати модель, навчену на датасеті MovieLens, і оцінити її точність за допомогою метрик RMSE та MAE.\n",
        "#Після цього, для виконання завдання щодо створення власного алгоритму, було реалізовано простий підхід на основі середніх оцінок користувача.\n",
        "#Створений алгоритм було перевірено на тому ж наборі даних, і результати моделі були оцінені аналогічним чином.\n",
        "#Власний алгоритм мав гірші показники точності порівняно з SVD, що підкреслює переваги більш складних моделей для систем рекомендацій.\n",
        "#Крім цього, для конкретного користувача було отримано список фільмів, рекомендованих на основі передбачених рейтингів, що є ключовим результатом системи рекомендацій.\n",
        "#Таким чином, у ході лабораторної роботи було успішно реалізовано власний алгоритм для побудови рекомендаційної системи та продемонстровано його роботу на реальних даних.\n",
        "\n",
        "#Посилання на гітхаб: https://github.com/nastiadzen/Machine-learning"
      ],
      "metadata": {
        "id": "97tA1LkhXzhb"
      },
      "execution_count": null,
      "outputs": []
    }
  ]
}